{
 "cells": [
  {
   "cell_type": "code",
   "execution_count": 78,
   "id": "b00e0d07-e7c3-495e-9b01-6a6abc8e53f4",
   "metadata": {},
   "outputs": [
    {
     "data": {
      "text/plain": [
       "12578"
      ]
     },
     "execution_count": 78,
     "metadata": {},
     "output_type": "execute_result"
    }
   ],
   "source": [
    "import gc\n",
    "# spark.stop()\n",
    "gc.collect()"
   ]
  },
  {
   "cell_type": "code",
   "execution_count": 77,
   "id": "09766685-02fd-4ba7-9c21-12afd5dba11c",
   "metadata": {},
   "outputs": [],
   "source": [
    "# Clear all cached data\n",
    "spark.catalog.clearCache()\n"
   ]
  },
  {
   "cell_type": "code",
   "execution_count": 1,
   "id": "09d63637-0e89-4268-a798-95f5660c90c7",
   "metadata": {},
   "outputs": [],
   "source": [
    "import requests\n",
    "import os\n",
    "import subprocess"
   ]
  },
  {
   "cell_type": "markdown",
   "id": "68a1859a-fb4d-4a08-b449-c2ed177f1732",
   "metadata": {},
   "source": [
    "### Downloading Data files"
   ]
  },
  {
   "cell_type": "code",
   "execution_count": 9,
   "id": "6f3c79e7-8859-4c19-80ea-da5c56732c0f",
   "metadata": {},
   "outputs": [],
   "source": [
    "# downloading data\n",
    "def downloadData(path):\n",
    "    for url in range(1,13):\n",
    "        # construct file url for 2023 \n",
    "        url = f\"https://d37ci6vzurychx.cloudfront.net/trip-data/yellow_tripdata_2022-{url:02}.parquet\"\n",
    "        file_path = path + os.path.basename(url)\n",
    "        # Ensure the parent directory exists\n",
    "        os.makedirs(os.path.dirname(file_path), exist_ok=True)\n",
    "        if  os.path.exists(file_path):\n",
    "            print(f\"File {file_path} exist.\")\n",
    "            continue  # Skip the current iteration and go to the next file\n",
    "        \n",
    "        # get request to download the file\n",
    "        with requests.get(url , stream=True)as r:\n",
    "            r.raise_for_status()\n",
    "            # write file in chunks\n",
    "            print(f'Writting file to {file_path}')\n",
    "            with open(file_path,\"wb\") as f:\n",
    "                for chunk in r.iter_content(chunk_size=80000):\n",
    "                    f.write(chunk)"
   ]
  },
  {
   "cell_type": "code",
   "execution_count": null,
   "id": "d6baeee9-cd9f-423b-8557-95ea99f17355",
   "metadata": {},
   "outputs": [],
   "source": [
    "path = \"/home/itversity/itversity-material/NYC_TCL/data/\" \n",
    "downloadData(path)"
   ]
  },
  {
   "cell_type": "code",
   "execution_count": 21,
   "id": "a2d7b652-cdfe-4584-9c23-36907cd2de14",
   "metadata": {},
   "outputs": [],
   "source": [
    "#download taxi_zone_lookup.csv\n",
    "url=\"https://d37ci6vzurychx.cloudfront.net/misc/taxi_zone_lookup.csv\"\n",
    "file_path = path + os.path.basename(url)\n",
    "with requests.get(url , stream=True)as r:\n",
    "            r.raise_for_status()\n",
    "            # write file in chunks\n",
    "            with open(file_path,\"wb\") as f:\n",
    "                for chunk in r.iter_content(chunk_size=80000):\n",
    "                    f.write(chunk)\n",
    "\n"
   ]
  },
  {
   "cell_type": "markdown",
   "id": "8363ba99-a691-4fcf-ba44-094c2ee6967d",
   "metadata": {},
   "source": [
    "### Moving Data from Local to HDFS"
   ]
  },
  {
   "cell_type": "code",
   "execution_count": 17,
   "id": "9a39071a-94bf-4879-85e3-75c17cea0ca9",
   "metadata": {},
   "outputs": [
    {
     "name": "stdout",
     "output_type": "stream",
     "text": [
      "moving file:yellow_tripdata_2022-01.parquet  to \n",
      " /NYC/raw/yellow_tripdata_2022-01.parquet \n",
      "moving file:yellow_tripdata_2022-02.parquet  to \n",
      " /NYC/raw/yellow_tripdata_2022-02.parquet \n",
      "moving file:yellow_tripdata_2022-03.parquet  to \n",
      " /NYC/raw/yellow_tripdata_2022-03.parquet \n",
      "moving file:yellow_tripdata_2022-04.parquet  to \n",
      " /NYC/raw/yellow_tripdata_2022-04.parquet \n",
      "moving file:yellow_tripdata_2022-05.parquet  to \n",
      " /NYC/raw/yellow_tripdata_2022-05.parquet \n",
      "moving file:yellow_tripdata_2022-06.parquet  to \n",
      " /NYC/raw/yellow_tripdata_2022-06.parquet \n",
      "moving file:yellow_tripdata_2022-07.parquet  to \n",
      " /NYC/raw/yellow_tripdata_2022-07.parquet \n",
      "moving file:yellow_tripdata_2022-08.parquet  to \n",
      " /NYC/raw/yellow_tripdata_2022-08.parquet \n",
      "moving file:yellow_tripdata_2022-09.parquet  to \n",
      " /NYC/raw/yellow_tripdata_2022-09.parquet \n",
      "moving file:yellow_tripdata_2022-10.parquet  to \n",
      " /NYC/raw/yellow_tripdata_2022-10.parquet \n",
      "moving file:yellow_tripdata_2022-11.parquet  to \n",
      " /NYC/raw/yellow_tripdata_2022-11.parquet \n",
      "moving file:yellow_tripdata_2022-12.parquet  to \n",
      " /NYC/raw/yellow_tripdata_2022-12.parquet \n"
     ]
    },
    {
     "data": {
      "text/plain": [
       "CompletedProcess(args=['hdfs', 'dfs', '-copyFromLocal', '/home/itversity/itversity-material/NYC_TCL/data/taxi_zone_lookup.csv', '/NYC/raw/taxi_zone_lookup.csv'], returncode=0)"
      ]
     },
     "execution_count": 17,
     "metadata": {},
     "output_type": "execute_result"
    }
   ],
   "source": [
    "local_dir = \"/home/itversity/itversity-material/NYC_TCL/data/\"\n",
    "hdfs_dir = \"/NYC/raw\"\n",
    "# create parent directory on HDFS if not exist\n",
    "subprocess.run([\"hdfs\",\"dfs\",\"-mkdir\",\"-p\",hdfs_dir])\n",
    "# loop over files and move from local to HDFS\n",
    "for file in range(1,13):\n",
    "    file_path =local_dir + f\"yellow_tripdata_2022-{file:02}.parquet\"\n",
    "    file_name = os.path.basename(f\"{local_dir}yellow_tripdata_2022-{file:02}.parquet\")\n",
    "    hdfs_file_path = os.path.join(hdfs_dir,file_name)\n",
    "    # check if file not found on local \n",
    "    if not os.path.exists(file_path):\n",
    "        print(f\"File {file_path} does not exist. Skipping this file.\")\n",
    "        continue  # Skip the current iteration and go to the next file\n",
    "    print(f\"moving file:{file_name}  to \\n {hdfs_file_path} \")\n",
    "    subprocess.run([\"hdfs\", \"dfs\", \"-copyFromLocal\", file_path, hdfs_file_path])\n",
    "# moving taxi_zone_lookup.csv to HDFS\n",
    "file_path =local_dir + f\"taxi_zone_lookup.csv\"\n",
    "file_name = os.path.basename(f\"{local_dir}taxi_zone_lookup.csv\")\n",
    "hdfs_file_path = os.path.join(hdfs_dir,file_name)\n",
    "subprocess.run([\"hdfs\", \"dfs\", \"-copyFromLocal\", file_path, hdfs_file_path])"
   ]
  },
  {
   "cell_type": "markdown",
   "id": "72cc5642-63b3-42c8-bc8f-f867d8759dec",
   "metadata": {},
   "source": [
    "### Creating Spark Session"
   ]
  },
  {
   "cell_type": "code",
   "execution_count": 32,
   "id": "1dd75623-413b-4352-befe-f7ca68027bec",
   "metadata": {},
   "outputs": [],
   "source": [
    "import pyspark \n",
    "from pyspark.sql import SparkSession\n",
    "from pyspark.sql.functions import * # year,month,dayofyear,datediff,unix_timestamp,dayofmonth,to_date,date_format,round,col\n",
    "from pyspark.storagelevel import StorageLevel\n",
    "from pyspark.sql.types import StructType, StructField, LongType, TimestampType, DoubleType, StringType\n",
    "from pyspark.sql.functions import broadcast"
   ]
  },
  {
   "cell_type": "code",
   "execution_count": 2,
   "id": "6e52efc4-86ad-4bf9-a301-7bab7a52ac77",
   "metadata": {},
   "outputs": [],
   "source": [
    "spark = SparkSession.builder.appName(\"NYC_taxi\").enableHiveSupport().getOrCreate()"
   ]
  },
  {
   "cell_type": "markdown",
   "id": "166c45be-c19c-45ba-b0ee-25b2cea53661",
   "metadata": {},
   "source": [
    "### Reading files and saving as one table"
   ]
  },
  {
   "cell_type": "code",
   "execution_count": 4,
   "id": "b4f6102b-5dba-41c8-8b47-abcfb883c2ab",
   "metadata": {},
   "outputs": [
    {
     "name": "stdout",
     "output_type": "stream",
     "text": [
      "root\n",
      " |-- VendorID: long (nullable = true)\n",
      " |-- tpep_pickup_datetime: timestamp (nullable = true)\n",
      " |-- tpep_dropoff_datetime: timestamp (nullable = true)\n",
      " |-- passenger_count: double (nullable = true)\n",
      " |-- trip_distance: double (nullable = true)\n",
      " |-- RatecodeID: double (nullable = true)\n",
      " |-- store_and_fwd_flag: string (nullable = true)\n",
      " |-- PULocationID: long (nullable = true)\n",
      " |-- DOLocationID: long (nullable = true)\n",
      " |-- payment_type: long (nullable = true)\n",
      " |-- fare_amount: double (nullable = true)\n",
      " |-- extra: double (nullable = true)\n",
      " |-- mta_tax: double (nullable = true)\n",
      " |-- tip_amount: double (nullable = true)\n",
      " |-- tolls_amount: double (nullable = true)\n",
      " |-- improvement_surcharge: double (nullable = true)\n",
      " |-- total_amount: double (nullable = true)\n",
      " |-- congestion_surcharge: double (nullable = true)\n",
      " |-- airport_fee: double (nullable = true)\n",
      "\n",
      "root\n",
      " |-- LocationID: integer (nullable = true)\n",
      " |-- Borough: string (nullable = true)\n",
      " |-- Zone: string (nullable = true)\n",
      " |-- service_zone: string (nullable = true)\n",
      "\n"
     ]
    }
   ],
   "source": [
    "df = spark.read.parquet(\"/NYC/raw/yellow_tripdata_2022*.parquet\",compression=\"snappy\" )\n",
    "df_zone = spark.read.csv(\"/NYC/raw/taxi_zone_lookup.csv\",header=True,inferSchema=True)\n",
    "df.printSchema()\n",
    "df_zone.printSchema()"
   ]
  },
  {
   "cell_type": "code",
   "execution_count": 114,
   "id": "aef84ee1-9a24-4c4b-b19f-73de2dc5227a",
   "metadata": {},
   "outputs": [
    {
     "data": {
      "text/plain": [
       "39656098"
      ]
     },
     "execution_count": 114,
     "metadata": {},
     "output_type": "execute_result"
    }
   ],
   "source": [
    "df.count()\n",
    "# zone_lookup.count()"
   ]
  },
  {
   "cell_type": "markdown",
   "id": "2741944f-c3fd-4729-b5f0-9314aec70ad0",
   "metadata": {
    "tags": []
   },
   "source": [
    "### Exploring and Cleaning data"
   ]
  },
  {
   "cell_type": "code",
   "execution_count": 5,
   "id": "44dc4548-d227-4c95-a5e7-e463d8285792",
   "metadata": {},
   "outputs": [],
   "source": [
    "# to focus on necessary features for the analysis some columns will be excluded \n",
    "# assuming trips with distance greater than 150 or less than 0.5 miles are outliers \n",
    "# assuming trips with total_amount greater than 350 or less than \n",
    "# considering only the absolute value for total_amount \n",
    "required_columns = [\"tpep_pickup_datetime\",\"tpep_dropoff_datetime\",\"passenger_count\",\"trip_distance\",\"RatecodeID\",\n",
    "                    \"PULocationID\",\"DOLocationID\",\"payment_type\",\"total_amount\"]\n",
    "df = df.withColumn(\"total_amount\",abs(format_number(col(\"total_amount\")+col(\"airport_fee\"),2).cast(\"double\"))).select(required_columns) \\\n",
    "        .withColumn(\"trip_distance\" , col(\"trip_distance\")*1.6) \\\n",
    "        .where(\n",
    "                (col(\"trip_distance\")<=150)&(col(\"trip_distance\") >= 0.5)\n",
    "                ) \\\n",
    "        .where(\n",
    "                (col(\"total_amount\") <=350)\n",
    "                )\n",
    "# df.count()"
   ]
  },
  {
   "cell_type": "code",
   "execution_count": 6,
   "id": "a0f2151d-1539-4416-96b4-f0ddff7b8ebe",
   "metadata": {
    "tags": []
   },
   "outputs": [],
   "source": [
    "# function to count null values for each column containing nulls\n",
    "def null_count(df):\n",
    "    null_columns_count=[]\n",
    "    row_count=df.count()\n",
    "    for c in df.columns:\n",
    "        null_rows=df.where(df[f\"{c}\"].isNull()).count()\n",
    "        if null_rows > 0:\n",
    "            temp= c, null_rows , (null_rows/row_count)*100\n",
    "            null_columns_count.append(temp)\n",
    "            \n",
    "    return null_columns_count"
   ]
  },
  {
   "cell_type": "code",
   "execution_count": 7,
   "id": "6639e656-5353-4fa4-8139-0250b3a91563",
   "metadata": {},
   "outputs": [
    {
     "name": "stdout",
     "output_type": "stream",
     "text": [
      "[]\n"
     ]
    }
   ],
   "source": [
    "null_columns = null_count(df)\n",
    "print(null_columns)"
   ]
  },
  {
   "cell_type": "markdown",
   "id": "6dd0d624-2e9c-4dfb-8802-87cf8159dcdf",
   "metadata": {},
   "source": [
    "##### Substituting  records containing nulls for \"passenger_count\" column with AVG number of passenger per trip\n",
    "##### Substituting  records containing nulls for \"total_amount\" column using a factor of \"fare_per_distance\""
   ]
  },
  {
   "cell_type": "code",
   "execution_count": 8,
   "id": "56df62ae-4a27-4f53-929c-94bc4e2989e9",
   "metadata": {},
   "outputs": [
    {
     "name": "stdout",
     "output_type": "stream",
     "text": [
      "+--------------------+---------------------+---------------+------------------+----------+------------+------------+------------+------------+\n",
      "|tpep_pickup_datetime|tpep_dropoff_datetime|passenger_count|     trip_distance|RatecodeID|PULocationID|DOLocationID|payment_type|total_amount|\n",
      "+--------------------+---------------------+---------------+------------------+----------+------------+------------+------------+------------+\n",
      "| 2022-10-01 00:03:41|  2022-10-01 00:18:39|            1.0|              2.72|       1.0|         249|         107|           1|       15.95|\n",
      "| 2022-10-01 00:14:30|  2022-10-01 00:19:48|            2.0|             1.152|       1.0|         151|         238|           2|         9.3|\n",
      "| 2022-10-01 00:27:13|  2022-10-01 00:37:41|            1.0|2.7840000000000003|       1.0|         238|         166|           1|       12.36|\n",
      "| 2022-10-01 00:32:53|  2022-10-01 00:38:55|            2.0|              2.08|       1.0|         142|         239|           1|       12.35|\n",
      "| 2022-10-01 00:44:55|  2022-10-01 00:50:21|            2.0|               1.6|       1.0|         238|         166|           1|         9.1|\n",
      "| 2022-10-01 00:22:52|  2022-10-01 00:52:14|            1.0|             10.88|       1.0|         186|          41|           2|        29.3|\n",
      "| 2022-10-01 00:33:19|  2022-10-01 00:44:51|            3.0|             3.008|       1.0|         162|         145|           2|        14.3|\n",
      "| 2022-10-01 00:02:42|  2022-10-01 00:50:01|            1.0|             19.52|       1.0|         100|          22|           1|        47.8|\n",
      "| 2022-10-01 00:06:35|  2022-10-01 00:24:38|            1.0|            12.464|       1.0|         138|         112|           1|       32.26|\n",
      "| 2022-10-01 00:29:25|  2022-10-01 00:43:15|            1.0|             7.552|       1.0|         145|          75|           1|        19.8|\n",
      "| 2022-10-01 00:01:55|  2022-10-01 00:20:16|            1.0|14.080000000000002|       1.0|         138|         236|           1|       44.49|\n",
      "| 2022-10-01 00:27:48|  2022-10-01 00:59:50|            1.0|             13.76|       1.0|         140|          36|           1|        39.3|\n",
      "| 2022-10-01 00:05:27|  2022-10-01 00:35:33|            4.0|19.200000000000003|       1.0|          70|         230|           2|       46.85|\n",
      "| 2022-10-01 00:38:53|  2022-10-01 00:48:13|            2.0|2.2399999999999998|       1.0|         230|          68|           1|       15.35|\n",
      "| 2022-10-01 00:24:40|  2022-10-01 00:30:23|            1.0|1.2160000000000002|       1.0|          79|         113|           1|       10.23|\n",
      "+--------------------+---------------------+---------------+------------------+----------+------------+------------+------------+------------+\n",
      "only showing top 15 rows\n",
      "\n"
     ]
    }
   ],
   "source": [
    "# Get average passenger count per trip  \n",
    "avg_passenger_count = df.select(\"passenger_count\").where((col(\"passenger_count\").isNotNull()) & (col(\"passenger_count\")!= 0) ). \\\n",
    "        select(ceil(avg(\"passenger_count\"))).collect()[0][0]\n",
    "# Calculate factor for fare per distance\n",
    "avg_fare_trip = df.select([\"trip_distance\",\"total_amount\"]).where(\n",
    "            (col(\"trip_distance\").isNotNull())|(col(\"trip_distance\")!=0) | (col(\"total_amount\").isNotNull())|(col(\"total_amount\")!=0)) \\\n",
    "            .withColumn(\"fare_per_trip\", col(\"total_amount\")/col(\"trip_distance\")).agg(avg(\"fare_per_trip\")).collect()[0][0]\n",
    "\n",
    "# handling nulls in columns passenger_count & total_amount\n",
    "df=df.withColumn(\"passenger_count\", \\\n",
    "                when(\n",
    "    (col(\"passenger_count\").isNull())|(col(\"passenger_count\")==0),lit(avg_passenger_count)).otherwise(col(\"passenger_count\"))) \\\n",
    "    .withColumn(\"total_amount\" ,\n",
    "               when((col(\"total_amount\").isNull()) | (col(\"total_amount\")==0), col(\"trip_distance\")*avg_fare_trip ).otherwise(col(\"total_amount\")) )\n",
    "df.show(15)"
   ]
  },
  {
   "cell_type": "markdown",
   "id": "853cc699-883d-41e5-856e-82a0c5bf5dc8",
   "metadata": {},
   "source": [
    "##### Chechk if any integer field contains negative values"
   ]
  },
  {
   "cell_type": "code",
   "execution_count": 9,
   "id": "72f2dddc-eba6-47c9-981c-c81eba0f87ff",
   "metadata": {},
   "outputs": [
    {
     "data": {
      "text/plain": [
       "[]"
      ]
     },
     "execution_count": 9,
     "metadata": {},
     "output_type": "execute_result"
    }
   ],
   "source": [
    "integr_fields =[field.name for field in df.schema if isinstance(field.dataType , (LongType, DoubleType))  ]\n",
    "negative_values = {column: df.select(column).where(col(column) < 0).count() > 0 for column in integr_fields  }\n",
    "negative_values=[column  for column , has_negative in negative_values.items() if has_negative]\n",
    "negative_values"
   ]
  },
  {
   "cell_type": "code",
   "execution_count": 10,
   "id": "3fc3c9ec-ba01-4a12-8837-183978e9ae61",
   "metadata": {},
   "outputs": [],
   "source": [
    "# take the absolute for any negative value \n",
    "for column in negative_values:\n",
    "    df = df.withColumn(column,abs(col(column)))\n"
   ]
  },
  {
   "cell_type": "markdown",
   "id": "5f39c700-7a6a-45c1-90eb-baf55cc13d3d",
   "metadata": {},
   "source": [
    "##### Creating columns year,month,day to partition data based on it "
   ]
  },
  {
   "cell_type": "code",
   "execution_count": 11,
   "id": "b6dbf28c-a91e-45f6-bc5c-efe83dfbf96f",
   "metadata": {},
   "outputs": [],
   "source": [
    "columns_arranged=[\"tpep_pickup_datetime\",\"tpep_dropoff_datetime\",\"passenger_count\",\"trip_distance\",\n",
    "                  \"RatecodeID\",\"PULocationID\",\"DOLocationID\",\"duration\",\"payment_type\",\"total_amount\",\"year\",\"month\",\"day\",\"day_name\"]\n",
    "df_final =df.withColumn(\"trip_distance\",round(col(\"trip_distance\"),2)) \\\n",
    "        .withColumn(\"year\", year(\"tpep_pickup_datetime\").cast(\"string\")) \\\n",
    "        .withColumn(\"month\",month(\"tpep_pickup_datetime\").cast(\"string\")) \\\n",
    "        .withColumn(\"day\",dayofmonth(\"tpep_pickup_datetime\").cast(\"string\")) \\\n",
    "        .withColumn(\"day_name\",date_format(\"tpep_pickup_datetime\" , \"E\")) \\\n",
    "        .withColumn(\"duration\",(unix_timestamp(\"tpep_dropoff_datetime\")-unix_timestamp(\"tpep_pickup_datetime\"))/60) \\\n",
    "        .withColumn(\"duration\", round(\"duration\",2)) \\\n",
    "            .select(columns_arranged).where(col(\"year\")=='2022')  # filtring for year 2022"
   ]
  },
  {
   "cell_type": "markdown",
   "id": "3db0fdd7-de82-4711-944c-e7b58ac98a29",
   "metadata": {},
   "source": [
    "### save as hive table partitioned by year, month"
   ]
  },
  {
   "cell_type": "code",
   "execution_count": 12,
   "id": "be85f9eb-8f1c-4646-9a09-836fe2bd0684",
   "metadata": {},
   "outputs": [],
   "source": [
    "df_final.write.partitionBy(\"year\",\"month\").mode(\"overwrite\").format(\"parquet\").saveAsTable(\"Yellow_tripdata_cleaned\",path=\"/NYC/processed/Yellow_tripdata_cleaned\")\n"
   ]
  },
  {
   "cell_type": "code",
   "execution_count": 14,
   "id": "756947cb-f44c-4e76-a64b-6bcc0f3e4c0e",
   "metadata": {},
   "outputs": [],
   "source": [
    "df_zone.write.mode(\"overwrite\").format(\"parquet\").saveAsTable(\"zone_lookup\",path=\"/NYC/processed/zone_lookup\")"
   ]
  },
  {
   "cell_type": "markdown",
   "id": "5ddf3da5-4b97-47b1-8ff2-952de020baa8",
   "metadata": {
    "tags": []
   },
   "source": [
    "#### Reading external table for further analysis"
   ]
  },
  {
   "cell_type": "code",
   "execution_count": 15,
   "id": "17e0285d-54d7-4da8-8834-2038f38686d6",
   "metadata": {},
   "outputs": [],
   "source": [
    "# Reading table and presisting it to avoid recomputation\n",
    "df_trips= spark.read.table(\"Yellow_tripdata_cleaned\").persist(StorageLevel.MEMORY_AND_DISK)\n"
   ]
  },
  {
   "cell_type": "code",
   "execution_count": 16,
   "id": "c4114ce2-d76c-4885-acf8-f40d38170838",
   "metadata": {},
   "outputs": [],
   "source": [
    "zone_lookup=spark.read.table(\"zone_lookup\")"
   ]
  },
  {
   "cell_type": "code",
   "execution_count": 18,
   "id": "98100ce0-06a6-4d9e-8b2e-be9bcf21720f",
   "metadata": {},
   "outputs": [
    {
     "data": {
      "text/plain": [
       "265"
      ]
     },
     "execution_count": 18,
     "metadata": {},
     "output_type": "execute_result"
    }
   ],
   "source": [
    "# df_trips.count()\n",
    "# zone_lookup.count()"
   ]
  },
  {
   "cell_type": "code",
   "execution_count": 59,
   "id": "00ae6de5-7d8d-42a2-8ac5-69f5f4e76369",
   "metadata": {},
   "outputs": [],
   "source": [
    "total_trips= spark.sparkContext.broadcast(df_trips.count())"
   ]
  },
  {
   "cell_type": "code",
   "execution_count": 61,
   "id": "c5abe814-0745-44ea-a7e3-7991622b6eea",
   "metadata": {},
   "outputs": [
    {
     "data": {
      "text/plain": [
       "37314690"
      ]
     },
     "execution_count": 61,
     "metadata": {},
     "output_type": "execute_result"
    }
   ],
   "source": []
  },
  {
   "cell_type": "markdown",
   "id": "16b2bd8c-d75b-4e81-acae-5c0e8bff1dc3",
   "metadata": {},
   "source": [
    "##### Number of trips distribution for each month."
   ]
  },
  {
   "cell_type": "code",
   "execution_count": 62,
   "id": "87cd958a-8cff-497d-b189-f3950613b302",
   "metadata": {},
   "outputs": [
    {
     "data": {
      "text/html": [
       "<table border='1'>\n",
       "<tr><th>year</th><th>month</th><th>trip/month</th><th>per%</th></tr>\n",
       "<tr><td>2022</td><td>1</td><td>2335478</td><td>6.26</td></tr>\n",
       "<tr><td>2022</td><td>2</td><td>2812721</td><td>7.54</td></tr>\n",
       "<tr><td>2022</td><td>3</td><td>3430113</td><td>9.19</td></tr>\n",
       "<tr><td>2022</td><td>4</td><td>3401942</td><td>9.12</td></tr>\n",
       "<tr><td>2022</td><td>5</td><td>3372751</td><td>9.04</td></tr>\n",
       "<tr><td>2022</td><td>6</td><td>3335223</td><td>8.94</td></tr>\n",
       "<tr><td>2022</td><td>7</td><td>2991282</td><td>8.02</td></tr>\n",
       "<tr><td>2022</td><td>8</td><td>2980771</td><td>7.99</td></tr>\n",
       "<tr><td>2022</td><td>9</td><td>2981956</td><td>7.99</td></tr>\n",
       "<tr><td>2022</td><td>10</td><td>3446892</td><td>9.24</td></tr>\n",
       "<tr><td>2022</td><td>11</td><td>3048480</td><td>8.17</td></tr>\n",
       "<tr><td>2022</td><td>12</td><td>3177081</td><td>8.51</td></tr>\n",
       "</table>\n"
      ],
      "text/plain": [
       "+----+-----+----------+----+\n",
       "|year|month|trip/month|per%|\n",
       "+----+-----+----------+----+\n",
       "|2022|    1|   2335478|6.26|\n",
       "|2022|    2|   2812721|7.54|\n",
       "|2022|    3|   3430113|9.19|\n",
       "|2022|    4|   3401942|9.12|\n",
       "|2022|    5|   3372751|9.04|\n",
       "|2022|    6|   3335223|8.94|\n",
       "|2022|    7|   2991282|8.02|\n",
       "|2022|    8|   2980771|7.99|\n",
       "|2022|    9|   2981956|7.99|\n",
       "|2022|   10|   3446892|9.24|\n",
       "|2022|   11|   3048480|8.17|\n",
       "|2022|   12|   3177081|8.51|\n",
       "+----+-----+----------+----+"
      ]
     },
     "execution_count": 62,
     "metadata": {},
     "output_type": "execute_result"
    }
   ],
   "source": [
    "# total_trips= df_trips.count()\n",
    "trip_per_month = df_trips.groupby(\"year\",\"month\").agg(count(\"*\").alias(\"trip/month\")).orderBy(col(\"month\").cast(\"int\")) \\\n",
    "                .withColumn(\"per%\", round((col(\"trip/month\")/total_trips.value)*100,2))\n",
    "trip_per_month"
   ]
  },
  {
   "cell_type": "markdown",
   "id": "2d92dfd3-f573-43a3-a1fd-02c476d2d888",
   "metadata": {},
   "source": [
    "##### Distribution of trips over the week."
   ]
  },
  {
   "cell_type": "code",
   "execution_count": 22,
   "id": "ccc01d6b-5073-4fc3-ba2f-6de172d2fcae",
   "metadata": {},
   "outputs": [
    {
     "data": {
      "text/html": [
       "<table border='1'>\n",
       "<tr><th>day_name</th><th>trip/day_of_week</th><th>per%</th></tr>\n",
       "<tr><td>Sat</td><td>5464376</td><td>14.64</td></tr>\n",
       "<tr><td>Sun</td><td>4477871</td><td>12.0</td></tr>\n",
       "<tr><td>Mon</td><td>4816487</td><td>12.91</td></tr>\n",
       "<tr><td>Tue</td><td>5460686</td><td>14.63</td></tr>\n",
       "<tr><td>Wed</td><td>5624869</td><td>15.07</td></tr>\n",
       "<tr><td>Thu</td><td>5776548</td><td>15.48</td></tr>\n",
       "<tr><td>Fri</td><td>5693853</td><td>15.26</td></tr>\n",
       "</table>\n"
      ],
      "text/plain": [
       "+--------+----------------+-----+\n",
       "|day_name|trip/day_of_week| per%|\n",
       "+--------+----------------+-----+\n",
       "|     Sat|         5464376|14.64|\n",
       "|     Sun|         4477871| 12.0|\n",
       "|     Mon|         4816487|12.91|\n",
       "|     Tue|         5460686|14.63|\n",
       "|     Wed|         5624869|15.07|\n",
       "|     Thu|         5776548|15.48|\n",
       "|     Fri|         5693853|15.26|\n",
       "+--------+----------------+-----+"
      ]
     },
     "execution_count": 22,
     "metadata": {},
     "output_type": "execute_result"
    }
   ],
   "source": [
    "# creating a column to custom order the day of week \n",
    "day_order = when(col(\"day_name\") == \"Sat\", 1) \\\n",
    "            .when(col(\"day_name\") == \"Sun\", 2) \\\n",
    "            .when(col(\"day_name\") == \"Mon\", 3) \\\n",
    "            .when(col(\"day_name\") == \"Tue\", 4) \\\n",
    "            .when(col(\"day_name\") == \"Wed\", 5) \\\n",
    "            .when(col(\"day_name\") == \"Thu\", 6) \\\n",
    "            .when(col(\"day_name\") == \"Fri\", 7) \n",
    "    \n",
    "\n",
    "trips_per_day_of_week = df_trips.groupby(\"day_name\").agg(count(\"*\").alias(\"trip/day_of_week\")) \\\n",
    "                            .withColumn(\"per%\", round((col(\"trip/day_of_week\")/total_trips)*100,2)) \\\n",
    "                            .withColumn(\"day_order\",day_order) \\\n",
    "                            .orderBy(col(\"day_order\")).select(\"day_name\",\"trip/day_of_week\",\"per%\")\n",
    "trips_per_day_of_week"
   ]
  },
  {
   "cell_type": "code",
   "execution_count": 83,
   "id": "fbaa3f43-a198-417c-b815-2ec27424628c",
   "metadata": {},
   "outputs": [
    {
     "data": {
      "text/plain": [
       "False"
      ]
     },
     "execution_count": 83,
     "metadata": {},
     "output_type": "execute_result"
    }
   ],
   "source": []
  },
  {
   "cell_type": "markdown",
   "id": "a14de346-fed8-475b-a8d1-843d99d7698c",
   "metadata": {},
   "source": [
    "#### join zone_lookup DF to include location info."
   ]
  },
  {
   "cell_type": "code",
   "execution_count": 80,
   "id": "1a066761-d983-4159-94a2-eecb66e22e23",
   "metadata": {},
   "outputs": [
    {
     "data": {
      "text/html": [
       "<table border='1'>\n",
       "<tr><th>tpep_pickup_datetime</th><th>tpep_dropoff_datetime</th><th>passenger_count</th><th>trip_distance</th><th>RatecodeID</th><th>PULocationID</th><th>DOLocationID</th><th>duration</th><th>payment_type</th><th>total_amount</th><th>day</th><th>day_name</th><th>year</th><th>month</th><th>PU_borough</th><th>PU_Zone</th><th>DO_borough</th><th>DO_Zone</th></tr>\n",
       "<tr><td>2022-10-01 00:03:41</td><td>2022-10-01 00:18:39</td><td>1.0</td><td>2.72</td><td>1.0</td><td>249</td><td>107</td><td>14.97</td><td>1</td><td>15.95</td><td>1</td><td>Sat</td><td>2022</td><td>10</td><td>Manhattan</td><td>West Village</td><td>Manhattan</td><td>Gramercy</td></tr>\n",
       "<tr><td>2022-10-18 20:45:38</td><td>2022-10-18 20:55:06</td><td>1.0</td><td>3.2</td><td>1.0</td><td>79</td><td>233</td><td>9.47</td><td>1</td><td>15.36</td><td>18</td><td>Tue</td><td>2022</td><td>10</td><td>Manhattan</td><td>East Village</td><td>Manhattan</td><td>UN/Turtle Bay South</td></tr>\n",
       "<tr><td>2022-10-01 00:14:30</td><td>2022-10-01 00:19:48</td><td>2.0</td><td>1.15</td><td>1.0</td><td>151</td><td>238</td><td>5.3</td><td>2</td><td>9.3</td><td>1</td><td>Sat</td><td>2022</td><td>10</td><td>Manhattan</td><td>Manhattan Valley</td><td>Manhattan</td><td>Upper West Side N...</td></tr>\n",
       "<tr><td>2022-10-18 20:27:06</td><td>2022-10-18 20:41:27</td><td>4.0</td><td>14.1</td><td>1.0</td><td>132</td><td>39</td><td>14.35</td><td>2</td><td>29.3</td><td>18</td><td>Tue</td><td>2022</td><td>10</td><td>Queens</td><td>JFK Airport</td><td>Brooklyn</td><td>Canarsie</td></tr>\n",
       "<tr><td>2022-10-01 00:27:13</td><td>2022-10-01 00:37:41</td><td>1.0</td><td>2.78</td><td>1.0</td><td>238</td><td>166</td><td>10.47</td><td>1</td><td>12.36</td><td>1</td><td>Sat</td><td>2022</td><td>10</td><td>Manhattan</td><td>Upper West Side N...</td><td>Manhattan</td><td>Morningside Heights</td></tr>\n",
       "<tr><td>2022-10-18 20:18:10</td><td>2022-10-18 20:29:32</td><td>1.0</td><td>4.3</td><td>1.0</td><td>100</td><td>145</td><td>11.37</td><td>1</td><td>25.0</td><td>18</td><td>Tue</td><td>2022</td><td>10</td><td>Manhattan</td><td>Garment District</td><td>Queens</td><td>Long Island City/...</td></tr>\n",
       "<tr><td>2022-10-01 00:32:53</td><td>2022-10-01 00:38:55</td><td>2.0</td><td>2.08</td><td>1.0</td><td>142</td><td>239</td><td>6.03</td><td>1</td><td>12.35</td><td>1</td><td>Sat</td><td>2022</td><td>10</td><td>Manhattan</td><td>Lincoln Square East</td><td>Manhattan</td><td>Upper West Side S...</td></tr>\n",
       "<tr><td>2022-10-18 20:07:18</td><td>2022-10-18 20:30:07</td><td>2.0</td><td>16.0</td><td>1.0</td><td>138</td><td>25</td><td>22.82</td><td>1</td><td>38.8</td><td>18</td><td>Tue</td><td>2022</td><td>10</td><td>Queens</td><td>LaGuardia Airport</td><td>Brooklyn</td><td>Boerum Hill</td></tr>\n",
       "<tr><td>2022-10-01 00:44:55</td><td>2022-10-01 00:50:21</td><td>2.0</td><td>1.6</td><td>1.0</td><td>238</td><td>166</td><td>5.43</td><td>1</td><td>9.1</td><td>1</td><td>Sat</td><td>2022</td><td>10</td><td>Manhattan</td><td>Upper West Side N...</td><td>Manhattan</td><td>Morningside Heights</td></tr>\n",
       "<tr><td>2022-10-18 20:53:33</td><td>2022-10-18 21:26:16</td><td>1.0</td><td>29.09</td><td>2.0</td><td>132</td><td>90</td><td>32.72</td><td>1</td><td>76.72</td><td>18</td><td>Tue</td><td>2022</td><td>10</td><td>Queens</td><td>JFK Airport</td><td>Manhattan</td><td>Flatiron</td></tr>\n",
       "<tr><td>2022-10-01 00:22:52</td><td>2022-10-01 00:52:14</td><td>1.0</td><td>10.88</td><td>1.0</td><td>186</td><td>41</td><td>29.37</td><td>2</td><td>29.3</td><td>1</td><td>Sat</td><td>2022</td><td>10</td><td>Manhattan</td><td>Penn Station/Madi...</td><td>Manhattan</td><td>Central Harlem</td></tr>\n",
       "<tr><td>2022-10-18 20:06:21</td><td>2022-10-18 20:14:55</td><td>1.0</td><td>1.55</td><td>1.0</td><td>162</td><td>230</td><td>8.57</td><td>1</td><td>12.96</td><td>18</td><td>Tue</td><td>2022</td><td>10</td><td>Manhattan</td><td>Midtown East</td><td>Manhattan</td><td>Times Sq/Theatre ...</td></tr>\n",
       "<tr><td>2022-10-01 00:33:19</td><td>2022-10-01 00:44:51</td><td>3.0</td><td>3.01</td><td>1.0</td><td>162</td><td>145</td><td>11.53</td><td>2</td><td>14.3</td><td>1</td><td>Sat</td><td>2022</td><td>10</td><td>Manhattan</td><td>Midtown East</td><td>Queens</td><td>Long Island City/...</td></tr>\n",
       "<tr><td>2022-10-18 20:19:43</td><td>2022-10-18 20:32:54</td><td>1.0</td><td>3.52</td><td>1.0</td><td>161</td><td>113</td><td>13.18</td><td>1</td><td>17.16</td><td>18</td><td>Tue</td><td>2022</td><td>10</td><td>Manhattan</td><td>Midtown Center</td><td>Manhattan</td><td>Greenwich Village...</td></tr>\n",
       "<tr><td>2022-10-01 00:02:42</td><td>2022-10-01 00:50:01</td><td>1.0</td><td>19.52</td><td>1.0</td><td>100</td><td>22</td><td>47.32</td><td>1</td><td>47.8</td><td>1</td><td>Sat</td><td>2022</td><td>10</td><td>Manhattan</td><td>Garment District</td><td>Brooklyn</td><td>Bensonhurst West</td></tr>\n",
       "<tr><td>2022-10-18 20:44:57</td><td>2022-10-18 20:53:43</td><td>1.0</td><td>1.94</td><td>1.0</td><td>186</td><td>137</td><td>8.77</td><td>1</td><td>13.56</td><td>18</td><td>Tue</td><td>2022</td><td>10</td><td>Manhattan</td><td>Penn Station/Madi...</td><td>Manhattan</td><td>Kips Bay</td></tr>\n",
       "<tr><td>2022-10-01 00:06:35</td><td>2022-10-01 00:24:38</td><td>1.0</td><td>12.46</td><td>1.0</td><td>138</td><td>112</td><td>18.05</td><td>1</td><td>32.26</td><td>1</td><td>Sat</td><td>2022</td><td>10</td><td>Queens</td><td>LaGuardia Airport</td><td>Brooklyn</td><td>Greenpoint</td></tr>\n",
       "<tr><td>2022-10-18 20:13:58</td><td>2022-10-18 20:19:17</td><td>1.0</td><td>1.42</td><td>1.0</td><td>239</td><td>142</td><td>5.32</td><td>1</td><td>11.3</td><td>18</td><td>Tue</td><td>2022</td><td>10</td><td>Manhattan</td><td>Upper West Side S...</td><td>Manhattan</td><td>Lincoln Square East</td></tr>\n",
       "<tr><td>2022-10-01 00:29:25</td><td>2022-10-01 00:43:15</td><td>1.0</td><td>7.55</td><td>1.0</td><td>145</td><td>75</td><td>13.83</td><td>1</td><td>19.8</td><td>1</td><td>Sat</td><td>2022</td><td>10</td><td>Queens</td><td>Long Island City/...</td><td>Manhattan</td><td>East Harlem South</td></tr>\n",
       "<tr><td>2022-10-18 20:24:24</td><td>2022-10-18 20:47:49</td><td>2.0</td><td>6.98</td><td>1.0</td><td>48</td><td>42</td><td>23.42</td><td>1</td><td>27.36</td><td>18</td><td>Tue</td><td>2022</td><td>10</td><td>Manhattan</td><td>Clinton East</td><td>Manhattan</td><td>Central Harlem North</td></tr>\n",
       "</table>\n",
       "only showing top 20 rows\n"
      ],
      "text/plain": [
       "+--------------------+---------------------+---------------+-------------+----------+------------+------------+--------+------------+------------+---+--------+----+-----+----------+--------------------+----------+--------------------+\n",
       "|tpep_pickup_datetime|tpep_dropoff_datetime|passenger_count|trip_distance|RatecodeID|PULocationID|DOLocationID|duration|payment_type|total_amount|day|day_name|year|month|PU_borough|             PU_Zone|DO_borough|             DO_Zone|\n",
       "+--------------------+---------------------+---------------+-------------+----------+------------+------------+--------+------------+------------+---+--------+----+-----+----------+--------------------+----------+--------------------+\n",
       "| 2022-10-01 00:03:41|  2022-10-01 00:18:39|            1.0|         2.72|       1.0|         249|         107|   14.97|           1|       15.95|  1|     Sat|2022|   10| Manhattan|        West Village| Manhattan|            Gramercy|\n",
       "| 2022-10-18 20:45:38|  2022-10-18 20:55:06|            1.0|          3.2|       1.0|          79|         233|    9.47|           1|       15.36| 18|     Tue|2022|   10| Manhattan|        East Village| Manhattan| UN/Turtle Bay South|\n",
       "| 2022-10-01 00:14:30|  2022-10-01 00:19:48|            2.0|         1.15|       1.0|         151|         238|     5.3|           2|         9.3|  1|     Sat|2022|   10| Manhattan|    Manhattan Valley| Manhattan|Upper West Side N...|\n",
       "| 2022-10-18 20:27:06|  2022-10-18 20:41:27|            4.0|         14.1|       1.0|         132|          39|   14.35|           2|        29.3| 18|     Tue|2022|   10|    Queens|         JFK Airport|  Brooklyn|            Canarsie|\n",
       "| 2022-10-01 00:27:13|  2022-10-01 00:37:41|            1.0|         2.78|       1.0|         238|         166|   10.47|           1|       12.36|  1|     Sat|2022|   10| Manhattan|Upper West Side N...| Manhattan| Morningside Heights|\n",
       "| 2022-10-18 20:18:10|  2022-10-18 20:29:32|            1.0|          4.3|       1.0|         100|         145|   11.37|           1|        25.0| 18|     Tue|2022|   10| Manhattan|    Garment District|    Queens|Long Island City/...|\n",
       "| 2022-10-01 00:32:53|  2022-10-01 00:38:55|            2.0|         2.08|       1.0|         142|         239|    6.03|           1|       12.35|  1|     Sat|2022|   10| Manhattan| Lincoln Square East| Manhattan|Upper West Side S...|\n",
       "| 2022-10-18 20:07:18|  2022-10-18 20:30:07|            2.0|         16.0|       1.0|         138|          25|   22.82|           1|        38.8| 18|     Tue|2022|   10|    Queens|   LaGuardia Airport|  Brooklyn|         Boerum Hill|\n",
       "| 2022-10-01 00:44:55|  2022-10-01 00:50:21|            2.0|          1.6|       1.0|         238|         166|    5.43|           1|         9.1|  1|     Sat|2022|   10| Manhattan|Upper West Side N...| Manhattan| Morningside Heights|\n",
       "| 2022-10-18 20:53:33|  2022-10-18 21:26:16|            1.0|        29.09|       2.0|         132|          90|   32.72|           1|       76.72| 18|     Tue|2022|   10|    Queens|         JFK Airport| Manhattan|            Flatiron|\n",
       "| 2022-10-01 00:22:52|  2022-10-01 00:52:14|            1.0|        10.88|       1.0|         186|          41|   29.37|           2|        29.3|  1|     Sat|2022|   10| Manhattan|Penn Station/Madi...| Manhattan|      Central Harlem|\n",
       "| 2022-10-18 20:06:21|  2022-10-18 20:14:55|            1.0|         1.55|       1.0|         162|         230|    8.57|           1|       12.96| 18|     Tue|2022|   10| Manhattan|        Midtown East| Manhattan|Times Sq/Theatre ...|\n",
       "| 2022-10-01 00:33:19|  2022-10-01 00:44:51|            3.0|         3.01|       1.0|         162|         145|   11.53|           2|        14.3|  1|     Sat|2022|   10| Manhattan|        Midtown East|    Queens|Long Island City/...|\n",
       "| 2022-10-18 20:19:43|  2022-10-18 20:32:54|            1.0|         3.52|       1.0|         161|         113|   13.18|           1|       17.16| 18|     Tue|2022|   10| Manhattan|      Midtown Center| Manhattan|Greenwich Village...|\n",
       "| 2022-10-01 00:02:42|  2022-10-01 00:50:01|            1.0|        19.52|       1.0|         100|          22|   47.32|           1|        47.8|  1|     Sat|2022|   10| Manhattan|    Garment District|  Brooklyn|    Bensonhurst West|\n",
       "| 2022-10-18 20:44:57|  2022-10-18 20:53:43|            1.0|         1.94|       1.0|         186|         137|    8.77|           1|       13.56| 18|     Tue|2022|   10| Manhattan|Penn Station/Madi...| Manhattan|            Kips Bay|\n",
       "| 2022-10-01 00:06:35|  2022-10-01 00:24:38|            1.0|        12.46|       1.0|         138|         112|   18.05|           1|       32.26|  1|     Sat|2022|   10|    Queens|   LaGuardia Airport|  Brooklyn|          Greenpoint|\n",
       "| 2022-10-18 20:13:58|  2022-10-18 20:19:17|            1.0|         1.42|       1.0|         239|         142|    5.32|           1|        11.3| 18|     Tue|2022|   10| Manhattan|Upper West Side S...| Manhattan| Lincoln Square East|\n",
       "| 2022-10-01 00:29:25|  2022-10-01 00:43:15|            1.0|         7.55|       1.0|         145|          75|   13.83|           1|        19.8|  1|     Sat|2022|   10|    Queens|Long Island City/...| Manhattan|   East Harlem South|\n",
       "| 2022-10-18 20:24:24|  2022-10-18 20:47:49|            2.0|         6.98|       1.0|          48|          42|   23.42|           1|       27.36| 18|     Tue|2022|   10| Manhattan|        Clinton East| Manhattan|Central Harlem North|\n",
       "+--------------------+---------------------+---------------+-------------+----------+------------+------------+--------+------------+------------+---+--------+----+-----+----------+--------------------+----------+--------------------+\n",
       "only showing top 20 rows"
      ]
     },
     "execution_count": 80,
     "metadata": {},
     "output_type": "execute_result"
    }
   ],
   "source": [
    "# Broadcast join zon_lookup and include Borough for both pickup and drop off locations\n",
    "trips = df_trips.join(broadcast(zone_lookup[\"LocationID\",\"Borough\",\"Zone\"].alias(\"PU\")) \\\n",
    "                      ,df_trips.PULocationID == col(\"PU.LocationID\"),\"left\") \\\n",
    "        .join(broadcast(zone_lookup[\"LocationID\",\"Borough\",\"Zone\"].alias(\"DO\")) \\\n",
    "                      ,df_trips.DOLocationID == col(\"DO.LocationID\"),\"left\") \\\n",
    "        .select(df_trips[\"*\"],\n",
    "                            col(\"PU.Borough\").alias(\"PU_borough\"),col(\"PU.Zone\").alias(\"PU_Zone\") \n",
    "                            ,col(\"DO.borough\").alias(\"DO_borough\"),col(\"DO.Zone\").alias(\"DO_Zone\")) \\\n",
    "        .persist(StorageLevel.MEMORY_AND_DISK)\n",
    "# df_trips.unpersist()\n",
    "trips"
   ]
  },
  {
   "cell_type": "markdown",
   "id": "34b65bfb-2acd-455f-928e-2462d1cd660b",
   "metadata": {},
   "source": [
    "#### Get number of trips per each Borough"
   ]
  },
  {
   "cell_type": "code",
   "execution_count": 86,
   "id": "646a4462-1b8f-43df-b3b2-639b498a5074",
   "metadata": {},
   "outputs": [
    {
     "data": {
      "text/html": [
       "<table border='1'>\n",
       "<tr><th>PU_borough</th><th>Trips</th><th>per%</th></tr>\n",
       "<tr><td>Queens</td><td>3231602</td><td>8.66</td></tr>\n",
       "<tr><td>EWR</td><td>733</td><td>0.0</td></tr>\n",
       "<tr><td>Unknown</td><td>438672</td><td>1.18</td></tr>\n",
       "<tr><td>Brooklyn</td><td>184327</td><td>0.49</td></tr>\n",
       "<tr><td>Staten Island</td><td>1989</td><td>0.01</td></tr>\n",
       "<tr><td>N/A</td><td>5942</td><td>0.02</td></tr>\n",
       "<tr><td>Manhattan</td><td>33417249</td><td>89.56</td></tr>\n",
       "<tr><td>Bronx</td><td>34176</td><td>0.09</td></tr>\n",
       "</table>\n"
      ],
      "text/plain": [
       "+-------------+--------+-----+\n",
       "|   PU_borough|   Trips| per%|\n",
       "+-------------+--------+-----+\n",
       "|       Queens| 3231602| 8.66|\n",
       "|          EWR|     733|  0.0|\n",
       "|      Unknown|  438672| 1.18|\n",
       "|     Brooklyn|  184327| 0.49|\n",
       "|Staten Island|    1989| 0.01|\n",
       "|          N/A|    5942| 0.02|\n",
       "|    Manhattan|33417249|89.56|\n",
       "|        Bronx|   34176| 0.09|\n",
       "+-------------+--------+-----+"
      ]
     },
     "execution_count": 86,
     "metadata": {},
     "output_type": "execute_result"
    }
   ],
   "source": [
    "# the result shows that most of demand is in Manhattan boroug by 89% of total trips\n",
    "trips_per_borough=trips.groupby(\"PU_borough\") \\\n",
    "                        .agg(count(\"*\").alias(\"Trips\")) \\\n",
    "                        .withColumn(\"per%\",round((col(\"Trips\")/total_trips.value)*100,2))\n",
    "trips_per_borough"
   ]
  },
  {
   "cell_type": "markdown",
   "id": "9841ae39-9cda-4e98-b20d-41c11d32c8b3",
   "metadata": {},
   "source": [
    "#### Investigating the trips distribution in manhattan"
   ]
  },
  {
   "cell_type": "code",
   "execution_count": 88,
   "id": "8734532b-eefa-49b8-b0b6-c7d1a356e3e8",
   "metadata": {},
   "outputs": [
    {
     "data": {
      "text/plain": [
       "33417249"
      ]
     },
     "execution_count": 88,
     "metadata": {},
     "output_type": "execute_result"
    }
   ],
   "source": [
    "total_trips_manhattan = spark.sparkContext.broadcast(trips.where(col(\"PU_borough\")==\"Manhattan\").count())\n",
    "total_trips_manhattan.value"
   ]
  },
  {
   "cell_type": "code",
   "execution_count": 93,
   "id": "fda90284-6093-47dd-8f40-aff21c36fab7",
   "metadata": {},
   "outputs": [
    {
     "data": {
      "text/html": [
       "<table border='1'>\n",
       "<tr><th>PU_Zone</th><th>Trips</th><th>per%</th></tr>\n",
       "<tr><td>Upper East Side S...</td><td>1788379</td><td>5.35</td></tr>\n",
       "<tr><td>Upper East Side N...</td><td>1578916</td><td>4.72</td></tr>\n",
       "<tr><td>Midtown Center</td><td>1515988</td><td>4.54</td></tr>\n",
       "<tr><td>Penn Station/Madi...</td><td>1257750</td><td>3.76</td></tr>\n",
       "<tr><td>Midtown East</td><td>1248094</td><td>3.73</td></tr>\n",
       "<tr><td>Lincoln Square East</td><td>1242940</td><td>3.72</td></tr>\n",
       "<tr><td>Times Sq/Theatre ...</td><td>1166535</td><td>3.49</td></tr>\n",
       "<tr><td>Murray Hill</td><td>1159280</td><td>3.47</td></tr>\n",
       "<tr><td>Clinton East</td><td>1141884</td><td>3.42</td></tr>\n",
       "<tr><td>Midtown North</td><td>1075554</td><td>3.22</td></tr>\n",
       "</table>\n"
      ],
      "text/plain": [
       "+--------------------+-------+----+\n",
       "|             PU_Zone|  Trips|per%|\n",
       "+--------------------+-------+----+\n",
       "|Upper East Side S...|1788379|5.35|\n",
       "|Upper East Side N...|1578916|4.72|\n",
       "|      Midtown Center|1515988|4.54|\n",
       "|Penn Station/Madi...|1257750|3.76|\n",
       "|        Midtown East|1248094|3.73|\n",
       "| Lincoln Square East|1242940|3.72|\n",
       "|Times Sq/Theatre ...|1166535|3.49|\n",
       "|         Murray Hill|1159280|3.47|\n",
       "|        Clinton East|1141884|3.42|\n",
       "|       Midtown North|1075554|3.22|\n",
       "+--------------------+-------+----+"
      ]
     },
     "execution_count": 93,
     "metadata": {},
     "output_type": "execute_result"
    }
   ],
   "source": [
    "# get top ten pickup zones in manhattan\n",
    "trips_in_manhattan = trips.select(\"PU_borough\",\"PU_Zone\").where(col(\"PU_borough\")==\"Manhattan\").groupby(\"PU_Zone\") \\\n",
    "                                    .agg(count(\"*\").alias(\"Trips\")) \\\n",
    "                                    .withColumn(\"per%\",round((col(\"Trips\")/total_trips_manhattan.value)*100,2)) \\\n",
    "                                    .orderBy(col(\"Trips\").desc()) \\\n",
    "                                    .limit(10) \n",
    "trips_in_manhattan"
   ]
  },
  {
   "cell_type": "markdown",
   "id": "f29e4a24-766b-49cc-bbfe-83842b72ffd2",
   "metadata": {},
   "source": [
    "#### Preferred payment type by passengers"
   ]
  },
  {
   "cell_type": "code",
   "execution_count": 126,
   "id": "d5437cad-b397-49f7-b426-ffd3f9868483",
   "metadata": {},
   "outputs": [
    {
     "data": {
      "text/html": [
       "<table border='1'>\n",
       "<tr><th>payment_type</th><th>Trips</th><th>per%</th></tr>\n",
       "<tr><td>Credit card</td><td>29575568</td><td>79.26</td></tr>\n",
       "<tr><td>Cash</td><td>7430207</td><td>19.91</td></tr>\n",
       "<tr><td>Dispute</td><td>186391</td><td>0.5</td></tr>\n",
       "<tr><td>No charge</td><td>122523</td><td>0.33</td></tr>\n",
       "</table>\n"
      ],
      "text/plain": [
       "+------------+--------+-----+\n",
       "|payment_type|   Trips| per%|\n",
       "+------------+--------+-----+\n",
       "| Credit card|29575568|79.26|\n",
       "|        Cash| 7430207|19.91|\n",
       "|     Dispute|  186391|  0.5|\n",
       "|   No charge|  122523| 0.33|\n",
       "+------------+--------+-----+"
      ]
     },
     "execution_count": 126,
     "metadata": {},
     "output_type": "execute_result"
    }
   ],
   "source": [
    "# first create dictionary to map payment methods\n",
    "dict_payment_type = {\n",
    "    1: \"Credit card\",\n",
    "    2: \"Cash\",\n",
    "    3: \"No charge\",\n",
    "    4: \"Dispute\",\n",
    "    5: \"Unknown\",\n",
    "    6: \"Voided trip\"\n",
    "}\n",
    "# selecting necessary columns and avoid unknown payment type\n",
    "df_payment = trips.select(\"payment_type\").where(col(\"payment_type\")!=5) \\\n",
    "            .groupby(\"payment_type\").agg(count(\"*\").alias(\"Trips\")) \n",
    "\n",
    "# crete column based on payment type dictionary\n",
    "col_payment_type = None\n",
    "for value,type in dict_payment_type.items():\n",
    "    if col_payment_type is None:\n",
    "        col_payment_type = when(col(\"payment_type\")==value , type)\n",
    "    else:\n",
    "        col_payment_type = col_payment_type.when(col(\"payment_type\")==value , type)\n",
    "# Number of trips per payment type. \n",
    "df_payment = df_payment.withColumn(\"payment_type\", col_payment_type) \\\n",
    "          .withColumn(\"per%\", round((col(\"Trips\") / total_trips.value) * 100, 2)) \\\n",
    "          .select(\"payment_type\", \"Trips\", \"per%\") \\\n",
    "          .orderBy(col(\"Trips\").desc())\n",
    "df_payment"
   ]
  },
  {
   "cell_type": "markdown",
   "id": "ea5397cc-8102-4043-a8f5-fd01bab458c9",
   "metadata": {},
   "source": [
    "#### passenger count per trip "
   ]
  },
  {
   "cell_type": "code",
   "execution_count": 128,
   "id": "fc522c1c-6f9e-492c-9961-987e2d310b3b",
   "metadata": {},
   "outputs": [
    {
     "data": {
      "text/html": [
       "<table border='1'>\n",
       "<tr><th>passenger_count</th><th>Trips</th><th>per%</th></tr>\n",
       "<tr><td>1.0</td><td>27530425</td><td>73.78</td></tr>\n",
       "<tr><td>2.0</td><td>6463246</td><td>17.32</td></tr>\n",
       "<tr><td>3.0</td><td>1505686</td><td>4.04</td></tr>\n",
       "<tr><td>4.0</td><td>687134</td><td>1.84</td></tr>\n",
       "<tr><td>5.0</td><td>675153</td><td>1.81</td></tr>\n",
       "<tr><td>6.0</td><td>452943</td><td>1.21</td></tr>\n",
       "<tr><td>7.0</td><td>51</td><td>0.0</td></tr>\n",
       "<tr><td>8.0</td><td>41</td><td>0.0</td></tr>\n",
       "<tr><td>9.0</td><td>11</td><td>0.0</td></tr>\n",
       "</table>\n"
      ],
      "text/plain": [
       "+---------------+--------+-----+\n",
       "|passenger_count|   Trips| per%|\n",
       "+---------------+--------+-----+\n",
       "|            1.0|27530425|73.78|\n",
       "|            2.0| 6463246|17.32|\n",
       "|            3.0| 1505686| 4.04|\n",
       "|            4.0|  687134| 1.84|\n",
       "|            5.0|  675153| 1.81|\n",
       "|            6.0|  452943| 1.21|\n",
       "|            7.0|      51|  0.0|\n",
       "|            8.0|      41|  0.0|\n",
       "|            9.0|      11|  0.0|\n",
       "+---------------+--------+-----+"
      ]
     },
     "execution_count": 128,
     "metadata": {},
     "output_type": "execute_result"
    }
   ],
   "source": [
    "# the passenger count shows that most of the trips are done by one or two passenger\n",
    "trips.select(\"passenger_count\").groupBy(\"passenger_count\") \\\n",
    "            .agg(count(\"*\").alias(\"Trips\")) \\\n",
    "            .withColumn(\"per%\", round((col(\"Trips\") / total_trips.value) * 100, 2)) \\\n",
    "            .orderBy(col(\"Trips\").desc())\n",
    "\n",
    "\n"
   ]
  },
  {
   "cell_type": "code",
   "execution_count": 108,
   "id": "0c9623fb-afed-4b66-879c-0f60b30b05c1",
   "metadata": {},
   "outputs": [
    {
     "name": "stdout",
     "output_type": "stream",
     "text": [
      "+------------+--------+-------------------+\n",
      "|payment_type|   Trips|               per%|\n",
      "+------------+--------+-------------------+\n",
      "| Credit card|29575568|  79.25985181707259|\n",
      "|   No charge|  122523|0.32835057721235256|\n",
      "|        Cash| 7430207|  19.91228387533167|\n",
      "|     Dispute|  186391|0.49951105047368743|\n",
      "+------------+--------+-------------------+\n",
      "\n"
     ]
    }
   ],
   "source": []
  },
  {
   "cell_type": "code",
   "execution_count": null,
   "id": "4ee8e176-0024-4db0-95a3-9a8bcdaf3380",
   "metadata": {},
   "outputs": [],
   "source": []
  },
  {
   "cell_type": "code",
   "execution_count": 24,
   "id": "f8d74cbd-6e5e-4bb1-b0f0-e044a1101edb",
   "metadata": {},
   "outputs": [
    {
     "name": "stdout",
     "output_type": "stream",
     "text": [
      "root\n",
      " |-- tpep_pickup_datetime: timestamp (nullable = true)\n",
      " |-- tpep_dropoff_datetime: timestamp (nullable = true)\n",
      " |-- passenger_count: double (nullable = true)\n",
      " |-- trip_distance: double (nullable = true)\n",
      " |-- RatecodeID: double (nullable = true)\n",
      " |-- PULocationID: long (nullable = true)\n",
      " |-- DOLocationID: long (nullable = true)\n",
      " |-- duration: double (nullable = true)\n",
      " |-- payment_type: long (nullable = true)\n",
      " |-- total_amount: double (nullable = true)\n",
      " |-- day: string (nullable = true)\n",
      " |-- day_name: string (nullable = true)\n",
      " |-- year: string (nullable = true)\n",
      " |-- month: string (nullable = true)\n",
      "\n"
     ]
    }
   ],
   "source": [
    "df_trips.printSchema()"
   ]
  },
  {
   "cell_type": "code",
   "execution_count": 71,
   "id": "44effb46-a5c2-4e28-aff4-add90ceef88b",
   "metadata": {},
   "outputs": [
    {
     "name": "stdout",
     "output_type": "stream",
     "text": [
      "root\n",
      " |-- LocationID: integer (nullable = true)\n",
      " |-- Borough: string (nullable = true)\n",
      " |-- Zone: string (nullable = true)\n",
      " |-- service_zone: string (nullable = true)\n",
      "\n"
     ]
    }
   ],
   "source": [
    "zone_lookup.printSchema()"
   ]
  }
 ],
 "metadata": {
  "kernelspec": {
   "display_name": "Pyspark 3",
   "language": "python",
   "name": "pyspark3"
  },
  "language_info": {
   "codemirror_mode": {
    "name": "ipython",
    "version": 3
   },
   "file_extension": ".py",
   "mimetype": "text/x-python",
   "name": "python",
   "nbconvert_exporter": "python",
   "pygments_lexer": "ipython3",
   "version": "3.6.9"
  }
 },
 "nbformat": 4,
 "nbformat_minor": 5
}
